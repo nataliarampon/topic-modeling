{
 "cells": [
  {
   "cell_type": "markdown",
   "metadata": {},
   "source": [
    "# Topic Modeling\n",
    "\n",
    "Topic modeling experiments on TripAdvisor reviews. Dataset provided by the professor of 'CMP617 - Natural Language Processing and Information Recovery' at UFRGS."
   ]
  },
  {
   "cell_type": "markdown",
   "metadata": {},
   "source": [
    "## Setup\n",
    "Installing and importing required libraries."
   ]
  },
  {
   "cell_type": "code",
   "execution_count": 4,
   "metadata": {},
   "outputs": [
    {
     "name": "stdout",
     "output_type": "stream",
     "text": [
      "Defaulting to user installation because normal site-packages is not writeable\n",
      "Collecting bertopic\n",
      "  Using cached bertopic-0.16.3-py3-none-any.whl (143 kB)\n",
      "Collecting sentence_transformers\n",
      "  Using cached sentence_transformers-3.0.1-py3-none-any.whl (227 kB)\n",
      "Requirement already satisfied: numpy in /Users/i530559/Library/Python/3.9/lib/python/site-packages (2.0.1)\n",
      "Requirement already satisfied: pandas in /Users/i530559/Library/Python/3.9/lib/python/site-packages (2.2.2)\n",
      "Requirement already satisfied: nltk in /Users/i530559/Library/Python/3.9/lib/python/site-packages (3.8.1)\n",
      "Collecting umap-learn>=0.5.0\n",
      "  Using cached umap_learn-0.5.6-py3-none-any.whl (85 kB)\n",
      "Requirement already satisfied: tqdm>=4.41.1 in /Users/i530559/Library/Python/3.9/lib/python/site-packages (from bertopic) (4.66.5)\n",
      "Collecting hdbscan>=0.8.29\n",
      "  Using cached hdbscan-0.8.38.post1.tar.gz (5.8 MB)\n",
      "\u001b[33m  WARNING: Value for prefixed-purelib does not match. Please report this to <https://github.com/pypa/pip/issues/10151>\n",
      "  distutils: /private/var/folders/jx/d6v3ktf92q96pk6vsyk3pj3r0000gn/T/pip-build-env-gr4e1d_w/normal/lib/python3.9/site-packages\n",
      "  sysconfig: /Library/Python/3.9/site-packages\u001b[0m\n",
      "\u001b[33m  WARNING: Value for prefixed-platlib does not match. Please report this to <https://github.com/pypa/pip/issues/10151>\n",
      "  distutils: /private/var/folders/jx/d6v3ktf92q96pk6vsyk3pj3r0000gn/T/pip-build-env-gr4e1d_w/normal/lib/python3.9/site-packages\n",
      "  sysconfig: /Library/Python/3.9/site-packages\u001b[0m\n",
      "\u001b[33m  WARNING: Additional context:\n",
      "  user = False\n",
      "  home = None\n",
      "  root = None\n",
      "  prefix = '/private/var/folders/jx/d6v3ktf92q96pk6vsyk3pj3r0000gn/T/pip-build-env-gr4e1d_w/normal'\u001b[0m\n",
      "\u001b[33m  WARNING: Value for prefixed-purelib does not match. Please report this to <https://github.com/pypa/pip/issues/10151>\n",
      "  distutils: /private/var/folders/jx/d6v3ktf92q96pk6vsyk3pj3r0000gn/T/pip-build-env-gr4e1d_w/overlay/lib/python3.9/site-packages\n",
      "  sysconfig: /Library/Python/3.9/site-packages\u001b[0m\n",
      "\u001b[33m  WARNING: Value for prefixed-platlib does not match. Please report this to <https://github.com/pypa/pip/issues/10151>\n",
      "  distutils: /private/var/folders/jx/d6v3ktf92q96pk6vsyk3pj3r0000gn/T/pip-build-env-gr4e1d_w/overlay/lib/python3.9/site-packages\n",
      "  sysconfig: /Library/Python/3.9/site-packages\u001b[0m\n",
      "\u001b[33m  WARNING: Additional context:\n",
      "  user = False\n",
      "  home = None\n",
      "  root = None\n",
      "  prefix = '/private/var/folders/jx/d6v3ktf92q96pk6vsyk3pj3r0000gn/T/pip-build-env-gr4e1d_w/overlay'\u001b[0m\n",
      "  Installing build dependencies ... \u001b[?25ldone\n",
      "\u001b[?25h  Getting requirements to build wheel ... \u001b[?25ldone\n",
      "\u001b[?25h    Preparing wheel metadata ... \u001b[?25ldone\n",
      "\u001b[?25hCollecting plotly>=4.7.0\n",
      "  Using cached plotly-5.23.0-py3-none-any.whl (17.3 MB)\n",
      "Requirement already satisfied: scikit-learn>=0.22.2.post1 in /Users/i530559/Library/Python/3.9/lib/python/site-packages (from bertopic) (1.5.1)\n",
      "Requirement already satisfied: huggingface-hub>=0.15.1 in /Users/i530559/Library/Python/3.9/lib/python/site-packages (from sentence_transformers) (0.24.5)\n",
      "Requirement already satisfied: scipy in /Users/i530559/Library/Python/3.9/lib/python/site-packages (from sentence_transformers) (1.13.1)\n",
      "Requirement already satisfied: torch>=1.11.0 in /Users/i530559/Library/Python/3.9/lib/python/site-packages (from sentence_transformers) (2.4.0)\n",
      "Requirement already satisfied: transformers<5.0.0,>=4.34.0 in /Users/i530559/Library/Python/3.9/lib/python/site-packages (from sentence_transformers) (4.44.0)\n",
      "Requirement already satisfied: Pillow in /Users/i530559/Library/Python/3.9/lib/python/site-packages (from sentence_transformers) (10.4.0)\n",
      "Requirement already satisfied: tzdata>=2022.7 in /Users/i530559/Library/Python/3.9/lib/python/site-packages (from pandas) (2024.1)\n",
      "Requirement already satisfied: python-dateutil>=2.8.2 in /Users/i530559/Library/Python/3.9/lib/python/site-packages (from pandas) (2.9.0.post0)\n",
      "Requirement already satisfied: pytz>=2020.1 in /Users/i530559/Library/Python/3.9/lib/python/site-packages (from pandas) (2024.1)\n",
      "Requirement already satisfied: regex>=2021.8.3 in /Users/i530559/Library/Python/3.9/lib/python/site-packages (from nltk) (2024.7.24)\n",
      "Requirement already satisfied: click in /Users/i530559/Library/Python/3.9/lib/python/site-packages (from nltk) (8.1.7)\n",
      "Requirement already satisfied: joblib in /Users/i530559/Library/Python/3.9/lib/python/site-packages (from nltk) (1.4.2)\n",
      "Requirement already satisfied: packaging>=20.9 in /Users/i530559/Library/Python/3.9/lib/python/site-packages (from huggingface-hub>=0.15.1->sentence_transformers) (24.1)\n",
      "Requirement already satisfied: filelock in /Users/i530559/Library/Python/3.9/lib/python/site-packages (from huggingface-hub>=0.15.1->sentence_transformers) (3.15.4)\n",
      "Requirement already satisfied: pyyaml>=5.1 in /Users/i530559/Library/Python/3.9/lib/python/site-packages (from huggingface-hub>=0.15.1->sentence_transformers) (6.0.2)\n",
      "Requirement already satisfied: requests in /Users/i530559/Library/Python/3.9/lib/python/site-packages (from huggingface-hub>=0.15.1->sentence_transformers) (2.32.3)\n",
      "Requirement already satisfied: fsspec>=2023.5.0 in /Users/i530559/Library/Python/3.9/lib/python/site-packages (from huggingface-hub>=0.15.1->sentence_transformers) (2024.5.0)\n",
      "Requirement already satisfied: typing-extensions>=3.7.4.3 in /Users/i530559/Library/Python/3.9/lib/python/site-packages (from huggingface-hub>=0.15.1->sentence_transformers) (4.12.2)\n",
      "Collecting tenacity>=6.2.0\n",
      "  Using cached tenacity-9.0.0-py3-none-any.whl (28 kB)\n",
      "Requirement already satisfied: six>=1.5 in /Applications/Xcode.app/Contents/Developer/Library/Frameworks/Python3.framework/Versions/3.9/lib/python3.9/site-packages (from python-dateutil>=2.8.2->pandas) (1.15.0)\n",
      "Requirement already satisfied: threadpoolctl>=3.1.0 in /Users/i530559/Library/Python/3.9/lib/python/site-packages (from scikit-learn>=0.22.2.post1->bertopic) (3.5.0)\n",
      "Requirement already satisfied: sympy in /Users/i530559/Library/Python/3.9/lib/python/site-packages (from torch>=1.11.0->sentence_transformers) (1.13.1)\n",
      "Requirement already satisfied: networkx in /Users/i530559/Library/Python/3.9/lib/python/site-packages (from torch>=1.11.0->sentence_transformers) (3.2.1)\n",
      "Requirement already satisfied: jinja2 in /Users/i530559/Library/Python/3.9/lib/python/site-packages (from torch>=1.11.0->sentence_transformers) (3.1.4)\n",
      "Requirement already satisfied: safetensors>=0.4.1 in /Users/i530559/Library/Python/3.9/lib/python/site-packages (from transformers<5.0.0,>=4.34.0->sentence_transformers) (0.4.4)\n",
      "Requirement already satisfied: tokenizers<0.20,>=0.19 in /Users/i530559/Library/Python/3.9/lib/python/site-packages (from transformers<5.0.0,>=4.34.0->sentence_transformers) (0.19.1)\n",
      "Collecting pynndescent>=0.5\n",
      "  Using cached pynndescent-0.5.13-py3-none-any.whl (56 kB)\n",
      "Collecting numba>=0.51.2\n",
      "  Using cached numba-0.60.0-cp39-cp39-macosx_11_0_arm64.whl (2.7 MB)\n",
      "Collecting llvmlite<0.44,>=0.43.0dev0\n",
      "  Using cached llvmlite-0.43.0-cp39-cp39-macosx_11_0_arm64.whl (28.8 MB)\n",
      "Requirement already satisfied: MarkupSafe>=2.0 in /Users/i530559/Library/Python/3.9/lib/python/site-packages (from jinja2->torch>=1.11.0->sentence_transformers) (2.1.5)\n",
      "Requirement already satisfied: charset-normalizer<4,>=2 in /Users/i530559/Library/Python/3.9/lib/python/site-packages (from requests->huggingface-hub>=0.15.1->sentence_transformers) (3.3.2)\n",
      "Requirement already satisfied: urllib3<3,>=1.21.1 in /Users/i530559/Library/Python/3.9/lib/python/site-packages (from requests->huggingface-hub>=0.15.1->sentence_transformers) (2.2.2)\n",
      "Requirement already satisfied: certifi>=2017.4.17 in /Users/i530559/Library/Python/3.9/lib/python/site-packages (from requests->huggingface-hub>=0.15.1->sentence_transformers) (2024.7.4)\n",
      "Requirement already satisfied: idna<4,>=2.5 in /Users/i530559/Library/Python/3.9/lib/python/site-packages (from requests->huggingface-hub>=0.15.1->sentence_transformers) (3.7)\n",
      "Requirement already satisfied: mpmath<1.4,>=1.1.0 in /Users/i530559/Library/Python/3.9/lib/python/site-packages (from sympy->torch>=1.11.0->sentence_transformers) (1.3.0)\n",
      "Building wheels for collected packages: hdbscan\n",
      "  Building wheel for hdbscan (PEP 517) ... \u001b[?25ldone\n",
      "\u001b[?25h  Created wheel for hdbscan: filename=hdbscan-0.8.38.post1-cp39-cp39-macosx_10_9_universal2.whl size=1487465 sha256=6f0509fc8d122b934d91c91acf583b01684b2a179e11c21dac4227059131f6fc\n",
      "  Stored in directory: /Users/i530559/Library/Caches/pip/wheels/81/2b/df/42bcd30979dad7dfab9de8e8236d6ea5404e03a7aadf7b3ffc\n",
      "Successfully built hdbscan\n",
      "Installing collected packages: llvmlite, numba, tenacity, pynndescent, umap-learn, sentence-transformers, plotly, hdbscan, bertopic\n"
     ]
    }
   ],
   "source": [
    "%pip install bertopic sentence_transformers numpy pandas nltk\n",
    "\n",
    "from sentence_transformers import SentenceTransformer\n",
    "import pandas as pd\n",
    "import numpy as np\n",
    "import nltk\n",
    "import re\n",
    "nltk.download('punkt')"
   ]
  },
  {
   "cell_type": "markdown",
   "metadata": {},
   "source": [
    "## Dataset"
   ]
  },
  {
   "cell_type": "code",
   "execution_count": null,
   "metadata": {},
   "outputs": [],
   "source": [
    "DATASET_FILE = 'tripadvisor.csv'\n",
    "df = pd.read_csv(DATASET_FILE)"
   ]
  }
 ],
 "metadata": {
  "kernelspec": {
   "display_name": "Python 3",
   "language": "python",
   "name": "python3"
  },
  "language_info": {
   "codemirror_mode": {
    "name": "ipython",
    "version": 3
   },
   "file_extension": ".py",
   "mimetype": "text/x-python",
   "name": "python",
   "nbconvert_exporter": "python",
   "pygments_lexer": "ipython3",
   "version": "3.9.6"
  }
 },
 "nbformat": 4,
 "nbformat_minor": 2
}
